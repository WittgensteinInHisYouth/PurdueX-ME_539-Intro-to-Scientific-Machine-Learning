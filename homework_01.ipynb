{
  "nbformat": 4,
  "nbformat_minor": 0,
  "metadata": {
    "kernelspec": {
      "display_name": "Python 3",
      "language": "python",
      "name": "python3"
    },
    "language_info": {
      "codemirror_mode": {
        "name": "ipython",
        "version": 3
      },
      "file_extension": ".py",
      "mimetype": "text/x-python",
      "name": "python",
      "nbconvert_exporter": "python",
      "pygments_lexer": "ipython3",
      "version": "3.8.8"
    },
    "colab": {
      "name": "homework_01.ipynb",
      "provenance": [],
      "collapsed_sections": [],
      "include_colab_link": true
    }
  },
  "cells": [
    {
      "cell_type": "markdown",
      "metadata": {
        "id": "view-in-github",
        "colab_type": "text"
      },
      "source": [
        "<a href=\"https://colab.research.google.com/github/WittgensteinInHisYouth/PurdueX-ME_539-Intro-to-Scientific-Machine-Learning/blob/main/homework_01.ipynb\" target=\"_parent\"><img src=\"https://colab.research.google.com/assets/colab-badge.svg\" alt=\"Open In Colab\"/></a>"
      ]
    },
    {
      "cell_type": "markdown",
      "metadata": {
        "id": "CLrxZ2nnuKWM"
      },
      "source": [
        "# Homework 1\n",
        "\n",
        "## References\n",
        "\n",
        "+ Lectures 1-2 (inclusive).\n",
        "\n",
        "## Instructions\n",
        "\n",
        "+ Type your name and email in the \"Student details\" section below.\n",
        "+ Develop the code and generate the figures you need to solve the problems using this notebook.\n",
        "+ For the answers that require a mathematical proof or derivation you can either:\n",
        "    \n",
        "    - Type the answer using the built-in latex capabilities. In this case, simply export the notebook as a pdf and upload it on gradescope; or\n",
        "    - You can print the notebook (after you are done with all the code), write your answers by hand, scan, turn your response to a single pdf, and upload on gradescope.\n",
        "\n",
        "+ The total homework points are 100. Please note that the problems are not weighed equally.\n",
        "\n",
        "**Note**: Please match all the pages corresponding to each of the questions when you submit on gradescope."
      ]
    },
    {
      "cell_type": "code",
      "metadata": {
        "id": "W9_Z9weFuKWP"
      },
      "source": [
        "%matplotlib inline\n",
        "import matplotlib.pyplot as plt\n",
        "import seaborn as sns\n",
        "sns.set_context('paper')\n",
        "import numpy as np"
      ],
      "execution_count": null,
      "outputs": []
    },
    {
      "cell_type": "markdown",
      "metadata": {
        "id": "upNGzYzwuKWQ"
      },
      "source": [
        "## Student details\n",
        "\n",
        "+ **First Name:**\n",
        "+ **Last Name:**\n",
        "+ **Email:**"
      ]
    },
    {
      "cell_type": "markdown",
      "metadata": {
        "id": "K-UPpauiuKWQ"
      },
      "source": [
        "## Problem 1\n",
        "\n",
        "This exercise demonstrates that probability theory is actually an extension of logic. Assume that you know that ``A implies B\". That is, your prior information is:\n",
        "$$\n",
        "I = \\{A \\implies B\\}.\n",
        "$$\n",
        "Please answer the following questions in the space provided:\n",
        "\n",
        "A. (4 points) $p(AB|I) = p(A|I)$.<br>\n",
        "**Proof:**\n",
        "<br><br>\n",
        "<font color='blue'>\n",
        "By the definition of $ I $, given prior information and A is true, we know B is true for certain, thus $$p(B|A,I)=1.$$\n",
        "Hence by product rule, $$p(AB|I)=p(B|A,I)p(A|I)=p(A|I)$$ \n",
        "<font>\n",
        "<br><br>"
      ]
    },
    {
      "cell_type": "markdown",
      "metadata": {
        "id": "NNZMeLmGuKWR"
      },
      "source": [
        "B. If $p(A|I) = 1$, then $p(B|I) = 1$.<br>\n",
        "**Proof:**\n",
        "<br><br>\n",
        "<font color='blue'>\n",
        "By sum rule, $$p(B|I) = p(B|A,I)p(A|I) + p(B| \\neg A,I)p( \\neg A|I) $$<br> $$=1*p(A|I) + p(B| \\neg A,I)*0$$ <br> $$=p(A|I)=1$$\n",
        "<font>\n",
        "<br><br>"
      ]
    },
    {
      "cell_type": "markdown",
      "metadata": {
        "id": "Lf16_97zuKWR"
      },
      "source": [
        "C. If $p(B|I) = 0$, then $p(A|I) = 0$.<br>\n",
        "**Proof:**\n",
        "<br><br>\n",
        "<font color='blue'>\n",
        "From part B we establish that \n",
        "$$p(B|I) = p(B|A,I)p(A|I) + p(B| \\neg A,I)p( \\neg A|I) $$ <br> $$=p(A|I) + p(B| \\neg A,I)p( \\neg A|I)$$ \n",
        "<br>\n",
        "If $p(B|I) = 0$, then by non-negativity of probability, we deduce $p(A|I) = 0$ and $p(B| \\neg A,I)p( \\neg A|I)=0.$\n",
        "\n",
        "<font>\n",
        "<br><br>"
      ]
    },
    {
      "cell_type": "markdown",
      "metadata": {
        "id": "0qbpur9nuKWS"
      },
      "source": [
        "D. B and C show that probability theory is consistent with Aristotelian logic. Now, you will discover how it extends it. Show that if B is true, then A becomes more plausible, i.e.\n",
        "$$\n",
        "p(A|BI) \\geq p(A|I).\n",
        "$$\n",
        "**Proof:**\n",
        "<br><br>\n",
        "<font color='blue'>\n",
        "By product rule, $$p(A|BI) = \\frac{p(AB|I)}{p(B|I)} = \\frac{1}{p(B|I)}p(A|I) $$ <br> \n",
        "but $p(B|I) \\leq 1$ and thus $\\frac{1}{p(B|I)} \\geq 1,$ so  $p(A|BI) \\geq p(A|I).$\n",
        "<font>\n",
        "<br><br>"
      ]
    },
    {
      "cell_type": "markdown",
      "metadata": {
        "id": "iBMxUiu-uKWS"
      },
      "source": [
        "E. Give at least two examples of D that apply to various scientific fields. To get you started, here are two examples:\n",
        "\n",
        "- $A$: It is raining. $B$: There are clouds in the sky. Clearly,  $A \\implies B$. $D$ tells us that if there are clouds in the sky, raining becomes more plausible.\n",
        "    \n",
        "- $A$: General relativity. $B$: Light is deflected in the presence of massive bodies. Here  $A \\implies B$. Observing that $B$ is true makes $A$ more plausible.\n",
        "\n",
        "**Answer:**\n",
        "<br><br>\n",
        "\n",
        "- <font color='blue'>$A$: <br>It is sunny.<br>\n",
        "  $B$: <br>There are not clouds in the sky.<br>\n",
        "  \n",
        "- <font color='blue'>$A$: <br>Presence of gravitational field in earth.<br>\n",
        "  $B$: <br>Phenomenon of free fall.<br>\n",
        "<font>\n",
        "<br><br>\n"
      ]
    },
    {
      "cell_type": "markdown",
      "metadata": {
        "id": "BK1W4dkyuKWT"
      },
      "source": [
        "F. Show that if $A$ is false, then $B$ becomes less plausible, i.e.: \n",
        "$$\n",
        "p(B|\\neg AI) \\leq p(B|I).\n",
        "$$\n",
        "**Proof:**\n",
        "<br><br>\n",
        "<font color='blue'>\n",
        "By sum rule, $$p(B|I) = p(B|\\neg AI)p(\\neg A|I) + p(B|AI)p(A|I)$$ <br>\n",
        "    $$ = p(B|\\neg AI)p(\\neg A|I) + p(A|I)$$ where $p(B|AI)=1$ by definition. <br>\n",
        "Divide both sides by $p(B|\\neg AI),$\n",
        " $$\\frac{p(B|I)}{p(B|\\neg AI)}= p(\\neg A|I)+\\frac{p(A|I)}{p(B|\\neg AI)} \\geq  p(\\neg A|I)+  p(A|I) = 1.$$\n",
        " Hence, $$\n",
        "p(B|\\neg AI) \\leq p(B|I).\n",
        "$$\n",
        "<font>\n",
        "<br><br>"
      ]
    },
    {
      "cell_type": "markdown",
      "metadata": {
        "id": "IbyPvL8WuKWU"
      },
      "source": [
        "G. Can you think of an example of scientific reasoning that involves F? For example:\n",
        "$A$: It is raining. $B$: There are clouds in the sky. F tells us that if it is not raining, then it is less plausible that there are clouds in the sky.<br>\n",
        "**Answer:**\n",
        "<br><br>\n",
        "- <font color='blue'>$A$: <br>It is sunny.<br>\n",
        "  $B$: <br>There are not clouds in the sky.<br>\n",
        "<br><br>"
      ]
    },
    {
      "cell_type": "markdown",
      "metadata": {
        "id": "H4iQgqX3uKWU"
      },
      "source": [
        "H. Do D and F contradict Karl Popper's [principle of falsification](https://en.wikipedia.org/wiki/Falsifiability), \"A theory in the empirical sciences can never be proven, but it can be falsified, meaning that it can and should be scrutinized by decisive experiments.\"<br>\n",
        "**Answer:**\n",
        "<br><br>\n",
        "<font color='blue'>\n",
        "No. There is no contradiction. An predicted observation can reinforce our belif about theory, thus not proven. On the other hand, a contradicting observation can mitigate our belife about the theory, those not completely destroyed. \n",
        "<br><br>"
      ]
    },
    {
      "cell_type": "markdown",
      "metadata": {
        "id": "WxQ1ZpPnuKWU"
      },
      "source": [
        "## Problem 2\n",
        "\n",
        "Disclaimer: This example is a modified version of the one found in a 2013 lecture on Bayesian Scientific Computing taught by Prof. Nicholas Zabaras.\n",
        "I am not sure where the original problem is coming from.\n",
        "\n",
        "We are tasked with assessing the usefulness of a tuberculosis test.\n",
        "The prior information I is:\n",
        "\n",
        "> The percentage of the population infected by tuberculosis is 0.4\\%.\n",
        "We have run several experiments and determined that:\n",
        "+ If a tested patient has the disease, then 80\\% of the time the test comes out positive.\n",
        "+ If a tested patient does not have the disease, then 90\\% of the time the test comes out negative.\n",
        "\n",
        "To facilitate your analysis, consider the following logical sentences concerning a patient:\n",
        "\n",
        "> A: The patient is tested and the test is positive.\n",
        "\n",
        "> B: The patient has tuberculosis.\n",
        "\n",
        "A. Find the probability that the patient has tuberculosis (before looking at the result of the test), i.e., $p(B|I)$. This is known as the base rate or the prior probability.<br>\n",
        "**Answer:**\n",
        "<br><br>\n",
        "<font color='blue'>\n",
        "$$p(B|I) = 0.4\\% $$ \n",
        "<font>\n",
        "<br><br>"
      ]
    },
    {
      "cell_type": "markdown",
      "metadata": {
        "id": "eBQhuPL2uKWU"
      },
      "source": [
        "B. Find the probability that the test is positive given that the patient has tuberculosis, i.e., $p(A|B,I)$.<br>\n",
        "**Answer:**\n",
        "<br><br>\n",
        "<font color='blue'>\n",
        "$$p(A|B,I) = 80\\%.$$\n",
        "<font>\n",
        "<br><br>"
      ]
    },
    {
      "cell_type": "markdown",
      "metadata": {
        "id": "P6L4lvsUuKWV"
      },
      "source": [
        "C. Find the probability that the test is positive given that the patient does not have tuberculosis, i.e., $p(A|\\neg B, I)$.<br>\n",
        "**Answer:**\n",
        "<br><br>\n",
        "<font color='blue'>\n",
        "$$p(A|\\neg B, I)= 1 - p(\\neg A|\\neg B, I) = 1 - 90 \\% = 10 \\%$$\n",
        "\n",
        "<font>\n",
        "<br><br>"
      ]
    },
    {
      "cell_type": "markdown",
      "metadata": {
        "id": "gm8wxZWyuKWV"
      },
      "source": [
        "D. Find the probability that a patient that tested positive has tuberculosis, i.e., $p(B|A,I)$.<br>\n",
        "**Answer:**\n",
        "<br><br>\n",
        "<font color='blue'>\n",
        "By Bayes rule,\n",
        "$$p(B|A,I) = \\frac{p(A|B,I)p(B|I)}{p(A|I)}=\\frac{80\\%*0.4\\%}{80\\%*0.4\\% + 99.6\\%*10\\%} \\approx 3.11284\\%.$$\n",
        "\n",
        "<br><br>"
      ]
    },
    {
      "cell_type": "markdown",
      "metadata": {
        "id": "WAMBjSXAuKWV"
      },
      "source": [
        "E. Find the probability that a patient that tested negative has tuberculosis, i.e., $p(B|\\neg A, I)$. Does the test change our prior state of knowledge about about the patient? Is the test useful?<br>\n",
        "**Answer:**\n",
        "<br><br>\n",
        "<font color='blue'>\n",
        "By Bayes rule,\n",
        "$$p(B|\\neg A,I) = \\frac{p(\\neg A|B,I)p(B|I)}{p(\\neg A|I)}=\\frac{20\\%*0.4\\%}{20\\%*0.4\\%+ 99.6\\%*90\\%} \\approx 0.0891663\\%.$$\n",
        "This does alter our prior belief. If the test comes out negative, it is useful that we know for high confidence the patient does not have the disease. However, if the test comes out postive, this tells us very little about whether the patient has the disease.\n",
        "<font>\n",
        "<br><br>"
      ]
    },
    {
      "cell_type": "markdown",
      "metadata": {
        "id": "o9-GoRNVuKWV"
      },
      "source": [
        "F. What would a good test look like? Find values for \n",
        "$$\n",
        "p(A|B,I)= p(\\text{test is positive} |\\text{has tuberculosis},I),\n",
        "$$\n",
        "and\n",
        "$$\n",
        "p(A| \\neg B, I) = p(\\text{test is positive}|\\text{does not have tuberculosis}, I),\n",
        "$$\n",
        "so that\n",
        "$$\n",
        "p(B|A, I) = p(\\text{has tuberculosis}|\\text{test is positive}, I) = 0.99.\n",
        "$$\n",
        "There are more than one solutions. How would you pick a good one? Thinking in this way can help you set goals if you work in R\\&D. If you have time, try to figure out whether or not there exists such an accurate test for tuberculosis<br>\n",
        "**Answer:**\n",
        "<br><br>\n",
        "<font color='blue'>\n",
        "By Bayes rule,\n",
        "$$p(B|A,I) = \\frac{p(A|B,I)p(B|I)}{p(A|I)}=\\frac{p(A|B,I)*0.4\\%}{p(A|B,I)*0.4\\% + 99.6\\%*p(A| \\neg B, I)} = 99\\%.$$<br>\n",
        "For a good choice of $p(A|B,I)$ and $p(A| \\neg B, I)$, we should have $p(A|B,I)$ close to 1 so that people with disease wouldn't miss the treatment, and loose about  $p(A| \\neg B, I)$ as people without disease being tested postive are probably fine. Hence, we can set $p(A|B,I)=99\\%$ and $p(A| \\neg B, I)=0.00365097\\%.$\n",
        "\n",
        "<br><br>"
      ]
    },
    {
      "cell_type": "code",
      "metadata": {
        "id": "eotSkshHT03z"
      },
      "source": [
        ""
      ],
      "execution_count": null,
      "outputs": []
    }
  ]
}