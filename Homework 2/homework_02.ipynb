{
  "nbformat": 4,
  "nbformat_minor": 0,
  "metadata": {
    "kernelspec": {
      "display_name": "Python 3",
      "language": "python",
      "name": "python3"
    },
    "language_info": {
      "codemirror_mode": {
        "name": "ipython",
        "version": 3
      },
      "file_extension": ".py",
      "mimetype": "text/x-python",
      "name": "python",
      "nbconvert_exporter": "python",
      "pygments_lexer": "ipython3",
      "version": "3.8.8"
    },
    "colab": {
      "name": "homework_02.ipynb",
      "provenance": [],
      "collapsed_sections": []
    }
  },
  "cells": [
    {
      "cell_type": "markdown",
      "metadata": {
        "id": "_4fpbfTMCuYf"
      },
      "source": [
        "# Homework 2\n",
        "\n",
        "\n",
        "## References\n",
        "\n",
        "+ Lectures 3-6 (inclusive).\n",
        "\n",
        "## Instructions\n",
        "\n",
        "+ Type your name and email in the \"Student details\" section below.\n",
        "+ Develop the code and generate the figures you need to solve the problems using this notebook.\n",
        "+ For the answers that require a mathematical proof or derivation you can either:\n",
        "    \n",
        "    - Type the answer using the built-in latex capabilities. In this case, simply export the notebook as a pdf and upload it on gradescope; or\n",
        "    - You can print the notebook (after you are done with all the code), write your answers by hand, scan, turn your response to a single pdf, and upload on gradescope.\n",
        "\n",
        "\n",
        "**Note**: Please match all the pages corresponding to each of the questions when you submit on gradescope."
      ]
    },
    {
      "cell_type": "markdown",
      "metadata": {
        "id": "G0khXsMOCuYh"
      },
      "source": [
        "## Student details\n",
        "\n",
        "+ **First Name:** Yihong\n",
        "+ **Last Name:**Ji\n",
        "+ **Email:** yihong_ji@mymail.sutd.edu.sg"
      ]
    },
    {
      "cell_type": "code",
      "metadata": {
        "id": "_IZN3joKCuYi"
      },
      "source": [
        "# Here are some modules that you may need - please run this block of code:\n",
        "import matplotlib.pyplot as plt\n",
        "%matplotlib inline\n",
        "import seaborn as sns\n",
        "sns.set_context('paper')\n",
        "import numpy as np\n",
        "import scipy\n",
        "import scipy.stats as st\n",
        "# A helper function for downloading files\n",
        "import requests\n",
        "import os\n",
        "def download(url, local_filename=None):\n",
        "    \"\"\"\n",
        "    Downloads the file in the ``url`` and saves it in the current working directory.\n",
        "    \"\"\"\n",
        "    data = requests.get(url)\n",
        "    if local_filename is None:\n",
        "        local_filename = os.path.basename(url)\n",
        "    with open(local_filename, 'wb') as fd:\n",
        "        fd.write(data.content)"
      ],
      "execution_count": null,
      "outputs": []
    },
    {
      "cell_type": "markdown",
      "metadata": {
        "id": "Cmz2nTm6CuYi"
      },
      "source": [
        "## Problem 1 - Practice with discrete random variables\n",
        "\n",
        "Consider the Categorical random variable:\n",
        "$$\n",
        "X \\sim \\operatorname{Categorical}(0.3, 0.1, 0.2, 0.4),\n",
        "$$\n",
        "taking values in $\\{0,1,2,3\\}$. Find the following (you may use ``scipy.stats.rv_discrete`` or do it by hand):"
      ]
    },
    {
      "cell_type": "markdown",
      "metadata": {
        "id": "nwjMFwDkCuYj"
      },
      "source": [
        "A. The expectation $\\mathbb{E}[X]$.\n",
        "\n",
        "**Answer:**\n",
        "<br><br>"
      ]
    },
    {
      "cell_type": "code",
      "metadata": {
        "id": "aMcWKyxTCuYj",
        "colab": {
          "base_uri": "https://localhost:8080/"
        },
        "outputId": "ef8b79d7-f8f1-4a14-9659-52404daa1f8e"
      },
      "source": [
        "# You can also answer with code here:\n",
        "xk = np.arange(4)\n",
        "pk = (0.3, 0.1, 0.2, 0.4)\n",
        "X = scipy.stats.rv_discrete(name='X', values=(xk, pk))\n",
        "print('The expectation is', X.mean())"
      ],
      "execution_count": null,
      "outputs": [
        {
          "output_type": "stream",
          "name": "stdout",
          "text": [
            "The expectation is 1.7000000000000002\n"
          ]
        }
      ]
    },
    {
      "cell_type": "markdown",
      "metadata": {
        "id": "ZEoRf4oXCuYk"
      },
      "source": [
        "B. The variance $\\mathbb{V}[X]$.\n",
        "\n",
        "**Answer:**\n",
        "<br><br>"
      ]
    },
    {
      "cell_type": "code",
      "metadata": {
        "id": "wX3v9XEMCuYk",
        "colab": {
          "base_uri": "https://localhost:8080/"
        },
        "outputId": "1e7ef17a-12e2-4b13-bb02-adac243af88f"
      },
      "source": [
        "# You can also answer with code here:\n",
        "print('The variance is', X.var())"
      ],
      "execution_count": null,
      "outputs": [
        {
          "output_type": "stream",
          "name": "stdout",
          "text": [
            "The variance is 1.6099999999999994\n"
          ]
        }
      ]
    },
    {
      "cell_type": "markdown",
      "metadata": {
        "id": "_IW_sgmSCuYl"
      },
      "source": [
        "C. Plot the probability mass function of $X$."
      ]
    },
    {
      "cell_type": "code",
      "metadata": {
        "id": "sogYkAd1CuYl",
        "colab": {
          "base_uri": "https://localhost:8080/",
          "height": 266
        },
        "outputId": "39fae9ff-5f7e-4760-9ee6-fd93fce3eb29"
      },
      "source": [
        "# Your code here. Hint: use a bar plot\n",
        "fig, ax = plt.subplots(1, 1)\n",
        "ax.plot(xk, X.pmf(xk), 'ro', ms=6, mec='r')\n",
        "ax.vlines(xk, 0, X.pmf(xk), colors='r', lw=4)\n",
        "plt.show()"
      ],
      "execution_count": null,
      "outputs": [
        {
          "output_type": "display_data",
          "data": {
            "image/png": "[encoded data removed]",
            "text/plain": [
              "<Figure size 432x288 with 1 Axes>"
            ]
          },
          "metadata": {
            "needs_background": "light"
          }
        }
      ]
    },
    {
      "cell_type": "markdown",
      "metadata": {
        "id": "-MD5eQeYCuYm"
      },
      "source": [
        "D. Find the probability that $X$ is in $\\{0, 2\\}$.\n",
        "\n",
        "**Answer:**\n",
        "<br><br>"
      ]
    },
    {
      "cell_type": "code",
      "metadata": {
        "id": "9Q5QlKdFCuYm",
        "colab": {
          "base_uri": "https://localhost:8080/"
        },
        "outputId": "7570bca1-d8a0-4e27-f4ec-fd34d2af9e45"
      },
      "source": [
        "# You can also answer with code here:\n",
        "prob = X.pmf([0,2]).sum()\n",
        "print('The probability is',prob)"
      ],
      "execution_count": null,
      "outputs": [
        {
          "output_type": "stream",
          "name": "stdout",
          "text": [
            "The probability is 0.5\n"
          ]
        }
      ]
    },
    {
      "cell_type": "markdown",
      "metadata": {
        "id": "rFExyUAMCuYm"
      },
      "source": [
        "E. Find $\\mathbb{E}[4X + 3]$.\n",
        "\n",
        "**Answer:**\n",
        "<br><br>"
      ]
    },
    {
      "cell_type": "code",
      "metadata": {
        "id": "sfhfxxZhCuYm",
        "colab": {
          "base_uri": "https://localhost:8080/"
        },
        "outputId": "03e9b0f0-2f29-4757-8898-5d9605c3a114"
      },
      "source": [
        "# You can also answer with code here:\n",
        "expectation = X.expect(lambda x: 4*x+3)\n",
        "print(\"The expectation is \", expectation)"
      ],
      "execution_count": null,
      "outputs": [
        {
          "output_type": "stream",
          "name": "stdout",
          "text": [
            "The expectation is  9.8\n"
          ]
        }
      ]
    },
    {
      "cell_type": "markdown",
      "metadata": {
        "id": "GlbpyYlBCuYn"
      },
      "source": [
        "F. Find $\\mathbb{V}[4X+3]$.\n",
        "\n",
        "**Answer:**\n",
        "<br><br>"
      ]
    },
    {
      "cell_type": "code",
      "metadata": {
        "id": "Pblwv9mFCuYn",
        "colab": {
          "base_uri": "https://localhost:8080/"
        },
        "outputId": "62123f6a-8149-428d-d9f5-ca56acfd23f2"
      },
      "source": [
        "# You can also answer with code here:\n",
        "Y = scipy.stats.rv_discrete(name='X', values=( 4*xk + 3, pk))\n",
        "print(\"The variance is \", Y.var())"
      ],
      "execution_count": null,
      "outputs": [
        {
          "output_type": "stream",
          "name": "stdout",
          "text": [
            "The variance is  25.75999999999999\n"
          ]
        }
      ]
    },
    {
      "cell_type": "markdown",
      "metadata": {
        "id": "L70B5jvOCuYn"
      },
      "source": [
        "## Problem 2 - Predicting the probability of major earthquakes in Southern California\n",
        "\n",
        "The [San Andreas fault](https://en.wikipedia.org/wiki/San_Andreas_Fault) extends through California forming the boundary between the Pacific and the North American tectonic plates.\n",
        "It has caused some of the major earthquakes on Earth.\n",
        "We are going to focus on Southern California and we would like to assess the probability of a major earthquake, defined as an earthquake of magnitude 6.5 or greater, during the next ten years.\n",
        "\n",
        "A. The first thing we are going to do is go over a [database of past earthquakes](https://scedc.caltech.edu/significant/chron-index.html) that have occured in Southern California and collect the relevant data. We are going to start at 1900 because data before that time may are unreliable.\n",
        "Go over each decade and count the occurence of a major earthquake (i.e., count the number of organge and red colors in each decade). We have done this for you."
      ]
    },
    {
      "cell_type": "code",
      "metadata": {
        "id": "yDBY2vWlCuYn",
        "colab": {
          "base_uri": "https://localhost:8080/",
          "height": 562
        },
        "outputId": "af57d57b-e61c-4ba3-c204-5be6c1768b6f"
      },
      "source": [
        "eq_data = np.array([\n",
        "    0, # 1900-1909\n",
        "    1, # 1910-1919\n",
        "    2, # 1920-1929\n",
        "    0, # 1930-1939\n",
        "    3, # 1940-1949\n",
        "    2, # 1950-1959\n",
        "    1, # 1960-1969\n",
        "    2, # 1970-1979\n",
        "    1, # 1980-1989\n",
        "    4, # 1990-1999\n",
        "    0, # 2000-2009\n",
        "    2 # 2010-2019 \n",
        "])\n",
        "fig, ax = plt.subplots(dpi=150)\n",
        "ax.bar(np.linspace(1900, 2019, eq_data.shape[0]), eq_data, width=10)\n",
        "ax.set_xlabel('Decade')\n",
        "ax.set_ylabel('# of major earthquakes in Southern CA');"
      ],
      "execution_count": null,
      "outputs": [
        {
          "output_type": "display_data",
          "data": {
            "image/png": "[encoded data removed]",
            "text/plain": [
              "<Figure size 900x600 with 1 Axes>"
            ]
          },
          "metadata": {
            "needs_background": "light"
          }
        }
      ]
    },
    {
      "cell_type": "markdown",
      "metadata": {
        "id": "mWjiYCFFCuYo"
      },
      "source": [
        "B. The [Poisson distribution](https://en.wikipedia.org/wiki/Poisson_distribution) is a discrete distribution with values $\\{0,1,2,\\dots\\}$ which is commonly used to model the number of events occuring in a certain time period.\n",
        "It is the right choice when these events are happening independently and the probability of any event happening over a small period of time is constant.\n",
        "Let's use the Poisson to model the number of earthquakes $X$ occuring in a decade.\n",
        "We write:\n",
        "$$\n",
        "X \\sim \\operatorname{Poisson}(r),\n",
        "$$\n",
        "where $r$ is the *rate parameter* of Poisson.\n",
        "The rate is the number of events per time period.\n",
        "Here, $r$ is the number of earthquakes per decade.\n",
        "Using the data above, we can set the rate as the empirical average of the observed number of earthquakes per decade:"
      ]
    },
    {
      "cell_type": "code",
      "metadata": {
        "id": "SV6exRmzCuYo",
        "colab": {
          "base_uri": "https://localhost:8080/"
        },
        "outputId": "0c967881-9309-444b-f89f-d2883b1f7006"
      },
      "source": [
        "r = np.mean(eq_data)\n",
        "print('r = {0:1.2f} major earthquakes per decade'.format(r))"
      ],
      "execution_count": null,
      "outputs": [
        {
          "output_type": "stream",
          "name": "stdout",
          "text": [
            "r = 1.50 major earthquakes per decade\n"
          ]
        }
      ]
    },
    {
      "cell_type": "markdown",
      "metadata": {
        "id": "aV5j7VXpCuYo"
      },
      "source": [
        "Strictly speaking, **this is not how you should be calibrating models!!!**\n",
        "We will learn about the **right** way (which uses Bayes' rule) in the subsequent lectures.\n",
        "But it will do for now as the answer you would get using the **right** way is, for this problem, almost the same.\n",
        "Let's define a Poisson distribution using ``scipy.stats.poisson`` (see documentation [here](https://docs.scipy.org/doc/scipy/reference/generated/scipy.stats.poisson.html)):"
      ]
    },
    {
      "cell_type": "code",
      "metadata": {
        "id": "ly0xgz6UCuYo"
      },
      "source": [
        "X = st.poisson(r)"
      ],
      "execution_count": null,
      "outputs": []
    },
    {
      "cell_type": "markdown",
      "metadata": {
        "id": "5-Ij-7UYCuYp"
      },
      "source": [
        "A. Plot the probability mass function of ``X``."
      ]
    },
    {
      "cell_type": "code",
      "metadata": {
        "id": "qoGKO1QkCuYp",
        "colab": {
          "base_uri": "https://localhost:8080/",
          "height": 268
        },
        "outputId": "8c109a8d-f908-4764-e128-08c0e2806215"
      },
      "source": [
        "# Your code here\n",
        "x = np.arange(0, 100, 1)\n",
        " \n",
        "# poisson distribution data for y-axis\n",
        "y = X.pmf(x)\n",
        " \n",
        " \n",
        "# plotting the graph\n",
        "plt.scatter(x, y)\n",
        " \n",
        "# showing the graph\n",
        "plt.show()"
      ],
      "execution_count": null,
      "outputs": [
        {
          "output_type": "display_data",
          "data": {
            "image/png": "[encoded data removed]",
            "text/plain": [
              "<Figure size 432x288 with 1 Axes>"
            ]
          },
          "metadata": {
            "needs_background": "light"
          }
        }
      ]
    },
    {
      "cell_type": "markdown",
      "metadata": {
        "id": "DUraDM1sCuYp"
      },
      "source": [
        "B. What is the probability that at least one major earthquake will occur during the next decade?<br>\n",
        "**Answer:**\n",
        "<br><br><br><br><br><br><br><br>"
      ]
    },
    {
      "cell_type": "code",
      "metadata": {
        "id": "B61TUhCpCuYp",
        "colab": {
          "base_uri": "https://localhost:8080/"
        },
        "outputId": "b5a65199-6b80-4b4e-c912-554ac29cde80"
      },
      "source": [
        "# You can also answer with code here:\n",
        "print(\"The probability that at least one major earthquake will occur during the next decade is\")\n",
        "print(1-X.pmf(0))"
      ],
      "execution_count": null,
      "outputs": [
        {
          "output_type": "stream",
          "name": "stdout",
          "text": [
            "The probability that at least one major earthquake will occur during the next decade is\n",
            "0.7768698398515702\n"
          ]
        }
      ]
    },
    {
      "cell_type": "markdown",
      "metadata": {
        "id": "eMl6YuwjCuYp"
      },
      "source": [
        "C. What is the probability that at least one major earthquake will occur during the next two decades?\n",
        "Hint: Consider two independent and identical copies of $X$, say $X_1$ and $X_2$.\n",
        "And consider their sum $Y = X_1 + X_2$. Read [this](https://en.wikipedia.org/wiki/Poisson_distribution#Sums_of_Poisson-distributed_random_variables) about the sum of two independent Poisson distributions.\n",
        "<br>\n",
        "**Answer:**\n",
        "<br><br><br><br><br><br><br><br>"
      ]
    },
    {
      "cell_type": "code",
      "metadata": {
        "id": "OK1rv6w_CuYp",
        "colab": {
          "base_uri": "https://localhost:8080/"
        },
        "outputId": "36f58afe-5b80-4b8e-b5a2-f4eba81f3ae1"
      },
      "source": [
        "# You can also answer with code here:\n",
        "print(\"The probability is\")\n",
        "1-st.poisson(2*r).pmf(0)"
      ],
      "execution_count": null,
      "outputs": [
        {
          "output_type": "stream",
          "name": "stdout",
          "text": [
            "The probability is\n"
          ]
        },
        {
          "output_type": "execute_result",
          "data": {
            "text/plain": [
              "0.950212931632136"
            ]
          },
          "metadata": {},
          "execution_count": 9
        }
      ]
    },
    {
      "cell_type": "markdown",
      "metadata": {
        "id": "w41JdKCSCuYp"
      },
      "source": [
        "D. What is the probability that at least one major earthquake will occur during the next five decades?<br>\n",
        "**Answer:**\n",
        "<br><br><br><br><br><br><br><br>"
      ]
    },
    {
      "cell_type": "code",
      "metadata": {
        "id": "O_TKX7Y6CuYp",
        "colab": {
          "base_uri": "https://localhost:8080/"
        },
        "outputId": "039a289d-26fb-4f09-b822-74850844426c"
      },
      "source": [
        "# You can also answer with code here:\n",
        "print(\"The probability is\")\n",
        "1-st.poisson(5*r).pmf(0)"
      ],
      "execution_count": null,
      "outputs": [
        {
          "output_type": "stream",
          "name": "stdout",
          "text": [
            "The probability is\n"
          ]
        },
        {
          "output_type": "execute_result",
          "data": {
            "text/plain": [
              "0.9994469156298522"
            ]
          },
          "metadata": {},
          "execution_count": 10
        }
      ]
    },
    {
      "cell_type": "markdown",
      "metadata": {
        "id": "kJVWtBIkCuYq"
      },
      "source": [
        "## Problem 3 - Failure of a mechanical component\n",
        "\n",
        "Assume that you designing a gear for a mechanical system.\n",
        "Under normal operating conditions the gear is expected to fail at a random time.\n",
        "Let $T$ be a random variable capturing the time the gear fails.\n",
        "What should the probability density of $T$ look like?\n",
        "Well, when the gear is brand new, the probability density should be close to zero because a new gear does not fail under normal opearating conditions.\n",
        "As time goes by, the probability density should increase because various things start happening to the material, e.g., crack formation, fatigue, etc. \n",
        "Finally, the probability density must again start going to zero as time further increases because nothing lasts forever...\n",
        "A probability distribution that is commonly used to model this situation is the [Weibull](https://en.wikipedia.org/wiki/Weibull_distribution).\n",
        "We are going to fit some fail time data to a Weibull distribution and then you will have to answer a few questions about failing times."
      ]
    },
    {
      "cell_type": "code",
      "metadata": {
        "id": "4sGiS_xTCuYq",
        "colab": {
          "base_uri": "https://localhost:8080/",
          "height": 386
        },
        "outputId": "86b84518-58c4-4583-d40e-290f20afe899"
      },
      "source": [
        "# Time to fail in years under normal operating conditions\n",
        "# Each row is a different gear\n",
        "time_to_fail_data = np.array([\n",
        "    10.5,\n",
        "    7.5,\n",
        "    8.1,\n",
        "    8.4,\n",
        "    11.2,\n",
        "    9.3,\n",
        "    8.9,\n",
        "    12.4\n",
        "])\n",
        "\n",
        "# Here is a Weibull distribution fitted to the data\n",
        "fitted_params = st.exponweib.fit(time_to_fail_data, loc=0)\n",
        "T = st.exponweib(*fitted_params)\n",
        "# Fit picks the parameters of the data to match the distribution\n",
        "# We will talk about what it does in subsequent lectures.\n",
        "\n",
        "# Let's plot the probability density of this\n",
        "fig, ax = plt.subplots(dpi=100)\n",
        "ts = np.linspace(0.0, 20.0, 100)\n",
        "ax.plot(ts, T.pdf(ts))\n",
        "ax.set_xlabel('$t$ (years)')\n",
        "ax.set_ylabel('$p(t)$');"
      ],
      "execution_count": null,
      "outputs": [
        {
          "output_type": "display_data",
          "data": {
            "image/png": "[encoded data removed]",
            "text/plain": [
              "<Figure size 600x400 with 1 Axes>"
            ]
          },
          "metadata": {
            "needs_background": "light"
          }
        }
      ]
    },
    {
      "cell_type": "markdown",
      "metadata": {
        "id": "DiMGCQo0CuYq"
      },
      "source": [
        "A. Find the mean fail time and its variance.\n",
        "Hint: Do not integrate anything by hand. Just use the functionality of ``scipy.stats``."
      ]
    },
    {
      "cell_type": "code",
      "metadata": {
        "id": "0nFILllWCuYq",
        "colab": {
          "base_uri": "https://localhost:8080/"
        },
        "outputId": "78f68289-87fb-40c3-f25a-55c47174cdc4"
      },
      "source": [
        "# Your code here\n",
        "t_mean = T.mean() # Change me\n",
        "t_var = T.var() # Change me\n",
        "print('E[T] = {0:1.2f}'.format(t_mean))\n",
        "print('V[T] = {0:1.2f}'.format(t_var))"
      ],
      "execution_count": null,
      "outputs": [
        {
          "output_type": "stream",
          "name": "stdout",
          "text": [
            "E[T] = 9.53\n",
            "V[T] = 2.88\n"
          ]
        }
      ]
    },
    {
      "cell_type": "markdown",
      "metadata": {
        "id": "Khaei5soCuYq"
      },
      "source": [
        "B. Plot the cumulative distribution function of $T$."
      ]
    },
    {
      "cell_type": "code",
      "metadata": {
        "id": "evVWjvryCuYq",
        "colab": {
          "base_uri": "https://localhost:8080/",
          "height": 386
        },
        "outputId": "e86abce8-537e-47c9-f13b-f807cee40dbb"
      },
      "source": [
        "# Your code here\n",
        "fig, ax = plt.subplots(dpi=100)\n",
        "ts = np.linspace(0.0, 20.0, 100)\n",
        "ax.plot(ts, T.cdf(ts))\n",
        "ax.set_xlabel('$t$ (years)')\n",
        "ax.set_ylabel('$cdf(t)$');"
      ],
      "execution_count": null,
      "outputs": [
        {
          "output_type": "display_data",
          "data": {
            "image/png": "[encoded data removed]",
            "text/plain": [
              "<Figure size 600x400 with 1 Axes>"
            ]
          },
          "metadata": {
            "needs_background": "light"
          }
        }
      ]
    },
    {
      "cell_type": "markdown",
      "metadata": {
        "id": "plvq8hD9CuYq"
      },
      "source": [
        "C. Plot the probability that gear survives for more than $t$ as a function of $t$.\n",
        "That is, plot the function:\n",
        "$$\n",
        "S(t) = p(T > t).\n",
        "$$\n",
        "Hint: First connect this function to the cumulative distribution function of $T$."
      ]
    },
    {
      "cell_type": "code",
      "metadata": {
        "id": "G_741BZnCuYq",
        "colab": {
          "base_uri": "https://localhost:8080/",
          "height": 386
        },
        "outputId": "1225de01-b77b-46da-a742-fabd2de0913a"
      },
      "source": [
        "# Your code here\n",
        "fig, ax = plt.subplots(dpi=100)\n",
        "ts = np.linspace(0.0, 20.0, 100)\n",
        "ax.plot(ts, T.sf(ts))\n",
        "ax.set_xlabel('$t$ (years)')\n",
        "ax.set_ylabel('$survival function(t)$');"
      ],
      "execution_count": null,
      "outputs": [
        {
          "output_type": "display_data",
          "data": {
            "image/png": "[encoded data removed]",
            "text/plain": [
              "<Figure size 600x400 with 1 Axes>"
            ]
          },
          "metadata": {
            "needs_background": "light"
          }
        }
      ]
    },
    {
      "cell_type": "markdown",
      "metadata": {
        "id": "8_vqkw6TCuYr"
      },
      "source": [
        "D. Find the probability that the gear lasts anywhere between 8 and 10 years."
      ]
    },
    {
      "cell_type": "code",
      "metadata": {
        "id": "StEyzvtiCuYr",
        "colab": {
          "base_uri": "https://localhost:8080/"
        },
        "outputId": "2cd5d2df-bf20-4b3f-8c70-e58a4e17cbf7"
      },
      "source": [
        "# Your code here\n",
        "print(\"The probability is\")\n",
        "T.cdf(10) - T.cdf(8) "
      ],
      "execution_count": null,
      "outputs": [
        {
          "output_type": "stream",
          "name": "stdout",
          "text": [
            "The probability is\n"
          ]
        },
        {
          "output_type": "execute_result",
          "data": {
            "text/plain": [
              "0.5342898192604528"
            ]
          },
          "metadata": {},
          "execution_count": 9
        }
      ]
    },
    {
      "cell_type": "markdown",
      "metadata": {
        "id": "gD54tHIHCuYr"
      },
      "source": [
        "E. If you were to sell the gear, how many years \"warranty\" would you offer?<br>\n",
        "**Answer:**\n",
        "<br><br>\n",
        "I would offer a ten-year warranty as seen from the pdf graph, the mode of the pdf occurs near t=10, so a ten-year reasonably cover most failure cases. Anything beyond ten years would add little marginal utility.\n",
        "<br><br><br><br>"
      ]
    },
    {
      "cell_type": "code",
      "metadata": {
        "id": "uJqaPPdGCuYr"
      },
      "source": [
        "# Your code here\n"
      ],
      "execution_count": null,
      "outputs": []
    },
    {
      "cell_type": "markdown",
      "metadata": {
        "id": "tJxs7wqYCuYr"
      },
      "source": [
        "## Problem 4 - Joint probability mass function of two discrete random variables\n",
        "\n",
        "Consider two random variables $X$ and $Y$.\n",
        "$X$ takes values $\\{0,1,\\dots,4\\}$ and $Y$ takes values $\\{0,1,\\dots,8\\}$.\n",
        "Their joint probability mass function, can be described using a matrix:"
      ]
    },
    {
      "cell_type": "code",
      "metadata": {
        "id": "kPMi4lRECuYr"
      },
      "source": [
        "P = np.array([[0.03607908, 0.03760034, 0.00503184, 0.0205082 , 0.01051408,\n",
        "        0.03776221, 0.00131325, 0.03760817, 0.01770659],\n",
        "       [0.03750162, 0.04317351, 0.03869997, 0.03069872, 0.02176718,\n",
        "        0.04778769, 0.01021053, 0.00324185, 0.02475319],\n",
        "       [0.03770951, 0.01053285, 0.01227089, 0.0339596 , 0.02296711,\n",
        "        0.02187814, 0.01925662, 0.0196836 , 0.01996279],\n",
        "       [0.02845139, 0.01209429, 0.02450163, 0.00874645, 0.03612603,\n",
        "        0.02352593, 0.00300314, 0.00103487, 0.04071951],\n",
        "       [0.00940187, 0.04633153, 0.01094094, 0.00172007, 0.00092633,\n",
        "        0.02032679, 0.02536328, 0.03552956, 0.01107725]])"
      ],
      "execution_count": null,
      "outputs": []
    },
    {
      "cell_type": "markdown",
      "metadata": {
        "id": "h2cRRStECuYr"
      },
      "source": [
        "The rows of the matrix correspond to the values of $X$ and the columns to the values of $Y$.\n",
        "So, if you wanted to find the probability of $p(X=2, Y=3)$ you would do:"
      ]
    },
    {
      "cell_type": "code",
      "metadata": {
        "id": "29Dt9xhWCuYr",
        "colab": {
          "base_uri": "https://localhost:8080/"
        },
        "outputId": "ad56f9e4-289f-4208-afd4-ea9ec58ad42d"
      },
      "source": [
        "print('p(X=2, Y=3) = {0:1.3f}'.format(P[2, 3]))"
      ],
      "execution_count": null,
      "outputs": [
        {
          "output_type": "stream",
          "name": "stdout",
          "text": [
            "p(X=2, Y=3) = 0.034\n"
          ]
        }
      ]
    },
    {
      "cell_type": "markdown",
      "metadata": {
        "id": "_Etj5jM_CuYr"
      },
      "source": [
        "A. Verify that $\\sum_{x,y}p(X=x, Y=y) = 1$."
      ]
    },
    {
      "cell_type": "code",
      "metadata": {
        "id": "kNzgRZcICuYr",
        "colab": {
          "base_uri": "https://localhost:8080/"
        },
        "outputId": "53d66ae4-15c6-4426-8345-88965dcbae59"
      },
      "source": [
        "# Your code here\n",
        "P.flatten().sum()"
      ],
      "execution_count": null,
      "outputs": [
        {
          "output_type": "execute_result",
          "data": {
            "text/plain": [
              "0.9999999900000001"
            ]
          },
          "metadata": {},
          "execution_count": 4
        }
      ]
    },
    {
      "cell_type": "markdown",
      "metadata": {
        "id": "anSfChCpCuYs"
      },
      "source": [
        "B. Find the marginal probability density of $X$:\n",
        "$$\n",
        "p(x) = \\sum_{y}p(x,y).\n",
        "$$\n",
        "You can represent this as a 5-dimensional vector."
      ]
    },
    {
      "cell_type": "code",
      "metadata": {
        "id": "b8GsgySQCuYs",
        "colab": {
          "base_uri": "https://localhost:8080/"
        },
        "outputId": "5461fc19-775b-42d3-f7cc-5507f1c6b6c4"
      },
      "source": [
        "# Hint, you can do this in one line if you read this:\n",
        "print(\"The mariginal probability density of X is\")\n",
        "px = np.sum(P, axis=1)\n",
        "px"
      ],
      "execution_count": null,
      "outputs": [
        {
          "output_type": "stream",
          "name": "stdout",
          "text": [
            "The mariginal probability density of X is\n"
          ]
        },
        {
          "output_type": "execute_result",
          "data": {
            "text/plain": [
              "array([0.20412376, 0.25783426, 0.19822111, 0.17820324, 0.16161762])"
            ]
          },
          "metadata": {},
          "execution_count": 9
        }
      ]
    },
    {
      "cell_type": "markdown",
      "metadata": {
        "id": "tSM5k0pgCuYs"
      },
      "source": [
        "C. Find the marginal probability density of $Y$. This is a 9-dimensional vector."
      ]
    },
    {
      "cell_type": "code",
      "metadata": {
        "id": "-nFQIM4VCuYs",
        "colab": {
          "base_uri": "https://localhost:8080/"
        },
        "outputId": "b69b5c04-cb14-4e0f-f523-93c872f197f4"
      },
      "source": [
        "# Your code here\n",
        "print(\"The mariginal probability density of Y is\")\n",
        "py = np.sum(P, axis=0)\n",
        "py"
      ],
      "execution_count": null,
      "outputs": [
        {
          "output_type": "stream",
          "name": "stdout",
          "text": [
            "The mariginal probability density of Y is\n"
          ]
        },
        {
          "output_type": "execute_result",
          "data": {
            "text/plain": [
              "array([0.14914347, 0.14973252, 0.09144527, 0.09563304, 0.09230073,\n",
              "       0.15128076, 0.05914682, 0.09709805, 0.11421933])"
            ]
          },
          "metadata": {},
          "execution_count": 10
        }
      ]
    },
    {
      "cell_type": "markdown",
      "metadata": {
        "id": "0_0ymauxCuYs"
      },
      "source": [
        "D. Find the expectation and variance of $X$ and $Y$."
      ]
    },
    {
      "cell_type": "code",
      "metadata": {
        "id": "5BHr9AzvCuYs",
        "colab": {
          "base_uri": "https://localhost:8080/"
        },
        "outputId": "24c72a91-1d12-44fb-cedd-8d47d3645c6b"
      },
      "source": [
        "# Your code here\n",
        "xk = np.arange(5)\n",
        "X = scipy.stats.rv_discrete(name='X', values=(xk, px))\n",
        "print(\"The expectation of X is\", X.mean())\n",
        "print(\"The variance of X is\", X.var())\n",
        "\n",
        "yk=np.arange(9)\n",
        "Y = scipy.stats.rv_discrete(name='Y', values=(yk, py))\n",
        "print(\"The expectation of X is\", Y.mean())\n",
        "print(\"The variance of X is\", Y.var())"
      ],
      "execution_count": null,
      "outputs": [
        {
          "output_type": "stream",
          "name": "stdout",
          "text": [
            "The expectation of X is 1.83535668\n",
            "The variance of X is 1.8718956371793776\n",
            "The expectation of X is 3.69345081\n",
            "The variance of X is 7.1905898441103435\n"
          ]
        }
      ]
    },
    {
      "cell_type": "markdown",
      "metadata": {
        "id": "6CpHhB8mCuYs"
      },
      "source": [
        "E. Find the expectation of $E[X + Y]$."
      ]
    },
    {
      "cell_type": "code",
      "metadata": {
        "id": "F4A2n-p-CuYs",
        "colab": {
          "base_uri": "https://localhost:8080/"
        },
        "outputId": "0fb76e88-8694-473d-9bdd-a638387587cd"
      },
      "source": [
        "# Your code here\n",
        "print(\"The expectation of X + Y is\", X.mean()+Y.mean())"
      ],
      "execution_count": null,
      "outputs": [
        {
          "output_type": "stream",
          "name": "stdout",
          "text": [
            "The expectation of X + Y is 5.52880749\n"
          ]
        }
      ]
    },
    {
      "cell_type": "markdown",
      "metadata": {
        "id": "UUrvRoCwCuYs"
      },
      "source": [
        "F. Find the covariance of $X$ and $Y$. Are the two variable correlated? If yes, are they positively or negatively correlated?"
      ]
    },
    {
      "cell_type": "code",
      "metadata": {
        "id": "txtCDV-aCuYs",
        "colab": {
          "base_uri": "https://localhost:8080/"
        },
        "outputId": "3949c87e-f8c8-4dd3-f19a-b7102c12cfcd"
      },
      "source": [
        "# Your code here\n",
        "E_XY = 0\n",
        "for x in range(5):\n",
        "  for y in range(9):\n",
        "    E_XY += x*y*P[x,y]\n",
        "\n",
        "print(\"The covariance is\")\n",
        "covariance = E_XY - X.mean() * Y.mean() \n",
        "print(covariance)\n",
        "\n",
        "if covariance >0:\n",
        "  print(\"They are positively correlated.\")\n",
        "\n",
        "if covariance < 0:\n",
        "  print(\"They are negatively correlated.\")\n"
      ],
      "execution_count": null,
      "outputs": [
        {
          "output_type": "stream",
          "name": "stdout",
          "text": [
            "The covariance is\n",
            "0.3186774336150906\n",
            "They are positively correlated.\n"
          ]
        }
      ]
    },
    {
      "cell_type": "markdown",
      "metadata": {
        "id": "Nm97JNfOCuYt"
      },
      "source": [
        "G. Find the variance of $X + Y$."
      ]
    },
    {
      "cell_type": "code",
      "metadata": {
        "id": "jBJNrk-wCuYt",
        "colab": {
          "base_uri": "https://localhost:8080/"
        },
        "outputId": "f18778c2-88d2-48af-fd13-1b223e9ec1b3"
      },
      "source": [
        "# Your code here\n",
        "print(\"The variance of X + Y is\")\n",
        "X.var() + Y.var() + 2*covariance"
      ],
      "execution_count": null,
      "outputs": [
        {
          "output_type": "stream",
          "name": "stdout",
          "text": [
            "The variance of X + Y is\n"
          ]
        },
        {
          "output_type": "execute_result",
          "data": {
            "text/plain": [
              "9.699840348519903"
            ]
          },
          "metadata": {},
          "execution_count": 22
        }
      ]
    },
    {
      "cell_type": "markdown",
      "metadata": {
        "id": "LkGFjSvuCuYt"
      },
      "source": [
        "J. Find the probability that $X+Y$ is less than or equal to 5.\n",
        "That is, find $p(X + Y \\le 5)$.\n",
        "Hint: Use two for loops to go over all the combinations of $X$ and $Y$ values, check if $X+Y\\le 5$, and sum up the probabilities."
      ]
    },
    {
      "cell_type": "code",
      "metadata": {
        "id": "Or9ITG6kCuYt",
        "colab": {
          "base_uri": "https://localhost:8080/"
        },
        "outputId": "56f9ed84-e527-4e6e-b451-35bc70004c4b"
      },
      "source": [
        "# Your code here\n",
        "prob = 0\n",
        "for x in range(5):\n",
        "  for y in range(9):\n",
        "    if x + y <= 5:\n",
        "      prob += P[x,y]\n",
        "\n",
        "print(\"The probability of X + Y <= 5 is\")\n",
        "prob"
      ],
      "execution_count": null,
      "outputs": [
        {
          "output_type": "stream",
          "name": "stdout",
          "text": [
            "The probability of X + Y <= 5 is\n"
          ]
        },
        {
          "output_type": "execute_result",
          "data": {
            "text/plain": [
              "0.5345903099999999"
            ]
          },
          "metadata": {},
          "execution_count": 24
        }
      ]
    },
    {
      "cell_type": "markdown",
      "metadata": {
        "id": "hBcAal6DCuYt"
      },
      "source": [
        "## Problem 5 - Creating a stochastic model for the magnetic properties of steel\n",
        "\n",
        "The magnetic properties of steel are captured in the so called [$B-H$ curve](https://en.wikipedia.org/wiki/Saturation_(magnetic)) which connects the magnetic field $H$ to the magnetic flux density $B$.\n",
        "The shape of this curve depends on the manufacturing process of the steel. As a result the $B-H$ differs across different suppliers but alos across time for the same supplier.\n",
        "\n",
        "Let's use some real manufacturer data to visualize these differences.\n",
        "The data are [here](https://github.com/PredictiveScienceLab/data-analytics-se/raw/master/homework/B_data.csv).\n",
        "It will take a while to explain how to upload data on Google Colab.\n",
        "We will do it in the next homework set.\n",
        "For now, you should just know that the data file ``B_data.csv`` needs to be in the same working directory as this Jupyter notebook.\n",
        "We have written a piece of code that allows you to put the data file in the right place without too much trouble.\n",
        "Simply run the following:"
      ]
    },
    {
      "cell_type": "code",
      "metadata": {
        "id": "p1ELDfmkCuYt"
      },
      "source": [
        "url = 'https://github.com/PredictiveScienceLab/data-analytics-se/raw/master/homework/B_data.csv'\n",
        "download(url)"
      ],
      "execution_count": null,
      "outputs": []
    },
    {
      "cell_type": "markdown",
      "metadata": {
        "id": "6LdSS2zzCuYt"
      },
      "source": [
        "If everything worked well, then the following will work:"
      ]
    },
    {
      "cell_type": "code",
      "metadata": {
        "id": "2E3Dwt7ZCuYt",
        "colab": {
          "base_uri": "https://localhost:8080/"
        },
        "outputId": "77f2b381-611a-46c0-c942-d089a199ebf2"
      },
      "source": [
        "# Load the data - You need the B_data.csv\n",
        "B_data = np.loadtxt('B_data.csv')\n",
        "# This file contains a single matrix the shape of which is:\n",
        "print(B_data.shape)"
      ],
      "execution_count": null,
      "outputs": [
        {
          "output_type": "stream",
          "name": "stdout",
          "text": [
            "(200, 1500)\n"
          ]
        }
      ]
    },
    {
      "cell_type": "markdown",
      "metadata": {
        "id": "F4wJAutoCuYt"
      },
      "source": [
        "The rows (200) corresponds to different samples of the $B-H$ curves (different suppliers and different times).\n",
        "The columns (1500) corresponds to different values of $H$.\n",
        "That is, the $i, j$ element is the value of $B$ at the a specific value of $H$, say $H_j$. The values of $H$ are the equidistant and identical and we are going to ignore them in this analysis.\n",
        "Let's visualize some of the samples."
      ]
    },
    {
      "cell_type": "code",
      "metadata": {
        "id": "eWNcb6XhCuYt",
        "colab": {
          "base_uri": "https://localhost:8080/",
          "height": 386
        },
        "outputId": "5f2f956e-aec1-4c40-ec00-45d921009ce2"
      },
      "source": [
        "# Here is one sample\n",
        "fig, ax = plt.subplots(dpi=100)\n",
        "ax.plot(B_data[0, :])\n",
        "ax.set_xlabel('Index $j$')\n",
        "ax.set_ylabel('$B$ (T)');"
      ],
      "execution_count": null,
      "outputs": [
        {
          "output_type": "display_data",
          "data": {
            "image/png": "[encoded data removed]",
            "text/plain": [
              "<Figure size 600x400 with 1 Axes>"
            ]
          },
          "metadata": {
            "needs_background": "light"
          }
        }
      ]
    },
    {
      "cell_type": "code",
      "metadata": {
        "id": "bJD-0RdzCuYt",
        "colab": {
          "base_uri": "https://localhost:8080/",
          "height": 386
        },
        "outputId": "13bd03d1-9f22-4ce3-dbf9-7fe9fd910923"
      },
      "source": [
        "# Here are five samples\n",
        "fig, ax = plt.subplots(dpi=100)\n",
        "ax.plot(B_data[:5, :].T)\n",
        "ax.set_xlabel('Index $j$')\n",
        "ax.set_ylabel('$B$ (T)');"
      ],
      "execution_count": null,
      "outputs": [
        {
          "output_type": "display_data",
          "data": {
            "image/png": "[encoded data removed]",
            "text/plain": [
              "<Figure size 600x400 with 1 Axes>"
            ]
          },
          "metadata": {
            "needs_background": "light"
          }
        }
      ]
    },
    {
      "cell_type": "code",
      "metadata": {
        "id": "_2kx9ZfmCuYu",
        "colab": {
          "base_uri": "https://localhost:8080/",
          "height": 386
        },
        "outputId": "50175971-f702-4282-b389-90f21716990c"
      },
      "source": [
        "# Here are all the samples\n",
        "fig, ax = plt.subplots(dpi=100)\n",
        "ax.plot(B_data[:, :].T, 'r', lw=0.1)\n",
        "ax.set_xlabel('Index $j$')\n",
        "ax.set_ylabel('$B$ (T)');"
      ],
      "execution_count": null,
      "outputs": [
        {
          "output_type": "display_data",
          "data": {
            "image/png": "[encoded data removed]",
            "text/plain": [
              "<Figure size 600x400 with 1 Axes>"
            ]
          },
          "metadata": {
            "needs_background": "light"
          }
        }
      ]
    },
    {
      "cell_type": "markdown",
      "metadata": {
        "id": "bo94I-n2CuYu"
      },
      "source": [
        "A. We are going to start by studying the data at only one index. Say index $j=500$.\n",
        "Let's define a random variable\n",
        "$$\n",
        "X = B(H_{500}),\n",
        "$$\n",
        "for this reason. Extract and do a histogram of the data for $X$:"
      ]
    },
    {
      "cell_type": "code",
      "metadata": {
        "id": "k7oREgX_CuYu",
        "colab": {
          "base_uri": "https://localhost:8080/",
          "height": 383
        },
        "outputId": "0319e4ec-7bec-4257-c019-d6dd34def80d"
      },
      "source": [
        "X_data = B_data[:, 500]\n",
        "fig, ax = plt.subplots(dpi=100)\n",
        "ax.hist(X_data, alpha=0.5, density=True)\n",
        "ax.set_xlabel('$x$')\n",
        "ax.set_ylabel('Histogram')"
      ],
      "execution_count": null,
      "outputs": [
        {
          "output_type": "display_data",
          "data": {
            "image/png": "[encoded data removed]",
            "text/plain": [
              "<Figure size 600x400 with 1 Axes>"
            ]
          },
          "metadata": {
            "needs_background": "light"
          }
        }
      ]
    },
    {
      "cell_type": "markdown",
      "metadata": {
        "id": "kf8lgXRtCuYu"
      },
      "source": [
        "This looks like a Gaussian $N(\\mu_{500}, \\sigma_{500}^2)$. Let's try to find a mean and variance for that Gaussian.\n",
        "We are not going to explain why, but a good choice for the mean is the empirical average of the data:\n",
        "$$\n",
        "\\mu_j = \\frac{1}{N}\\sum_{i=1}^NB_{ij}.\n",
        "$$\n",
        "That is:"
      ]
    },
    {
      "cell_type": "code",
      "metadata": {
        "id": "cVn50Sh0CuYu",
        "colab": {
          "base_uri": "https://localhost:8080/"
        },
        "outputId": "0aea8722-726e-4b3e-df85-47ccd60d9a45"
      },
      "source": [
        "mu_500 = X_data.mean()\n",
        "print('mu_500 = {0:1.2f}'.format(mu_500))"
      ],
      "execution_count": null,
      "outputs": [
        {
          "output_type": "stream",
          "name": "stdout",
          "text": [
            "mu_500 = 1.61\n"
          ]
        }
      ]
    },
    {
      "cell_type": "markdown",
      "metadata": {
        "id": "PIYlBVFKCuYu"
      },
      "source": [
        "Similarly, for the variance a good choice is the empirical variance defined by:\n",
        "$$\n",
        "\\sigma_j^2 = \\frac{1}{N}\\sum_{i=1}^N(B_{ij} - \\mu_j)^2.\n",
        "$$\n",
        "That is:"
      ]
    },
    {
      "cell_type": "code",
      "metadata": {
        "id": "OpNPAem3CuYu",
        "colab": {
          "base_uri": "https://localhost:8080/"
        },
        "outputId": "2c3bba0b-b2a5-47da-ff7f-35b400d40dd2"
      },
      "source": [
        "sigma2_500 = np.var(X_data)#.var()\n",
        "print('sigma_500 = {0:1.2e}'.format(sigma2_500))"
      ],
      "execution_count": null,
      "outputs": [
        {
          "output_type": "stream",
          "name": "stdout",
          "text": [
            "sigma_500 = 7.42e-04\n"
          ]
        }
      ]
    },
    {
      "cell_type": "markdown",
      "metadata": {
        "id": "so7PTT1YCuYu"
      },
      "source": [
        "Repeat the plot of the histogram of $X$ along with the PDF of the normal variable we have just identified using the functionality of ``scipy.stats``."
      ]
    },
    {
      "cell_type": "code",
      "metadata": {
        "id": "s62yPy93CuYu",
        "colab": {
          "base_uri": "https://localhost:8080/",
          "height": 364
        },
        "outputId": "5320f654-f8dc-440c-ade3-154ca7800f10"
      },
      "source": [
        "# Your code here\n",
        "fig, ax = plt.subplots(dpi=100)\n",
        "ax.hist(X_data, alpha=0.5, density=True)\n",
        "X = st.norm(mu_500, np.sqrt(sigma2_500))\n",
        "ax.hist(X.rvs(size=1000), density=True, histtype='stepfilled', alpha=0.5)\n",
        "ax.legend(['histpgram', 'PDF'],loc='best', frameon=False)\n",
        "plt.show()"
      ],
      "execution_count": null,
      "outputs": [
        {
          "output_type": "display_data",
          "data": {
            "image/png": "[encoded data removed]",
            "text/plain": [
              "<Figure size 600x400 with 1 Axes>"
            ]
          },
          "metadata": {
            "needs_background": "light"
          }
        }
      ]
    },
    {
      "cell_type": "markdown",
      "metadata": {
        "id": "8Guxatj4CuYu"
      },
      "source": [
        "B. Using your normal approximation to the PDF of $X$, find the probability that $X = B(H_{500})$ is geater than 1.66 T."
      ]
    },
    {
      "cell_type": "code",
      "metadata": {
        "id": "ulJFOvDuCuYu",
        "colab": {
          "base_uri": "https://localhost:8080/"
        },
        "outputId": "8c1358ff-6fe1-4d1c-b71a-5dd247a483c6"
      },
      "source": [
        "# Your code here\n",
        "print(\"The probability is\")\n",
        "X.sf(1.66)"
      ],
      "execution_count": null,
      "outputs": [
        {
          "output_type": "stream",
          "name": "stdout",
          "text": [
            "The probability is\n"
          ]
        },
        {
          "output_type": "execute_result",
          "data": {
            "text/plain": [
              "0.0343557486313096"
            ]
          },
          "metadata": {},
          "execution_count": 31
        }
      ]
    },
    {
      "cell_type": "markdown",
      "metadata": {
        "id": "-u1Y0BE4CuYu"
      },
      "source": [
        "C. Let us now consider another random variable\n",
        "$$\n",
        "Y = B(H_{1000}).\n",
        "$$\n",
        "Isolate the data for this as well:"
      ]
    },
    {
      "cell_type": "code",
      "metadata": {
        "id": "tLKVEteECuYu"
      },
      "source": [
        "Y_data = B_data[:, 1000]"
      ],
      "execution_count": null,
      "outputs": []
    },
    {
      "cell_type": "markdown",
      "metadata": {
        "id": "qTniCw4hCuYv"
      },
      "source": [
        "Do the ``scatter`` plot of $X$ and $Y$:"
      ]
    },
    {
      "cell_type": "code",
      "metadata": {
        "id": "RGHWxZ67CuYv",
        "colab": {
          "base_uri": "https://localhost:8080/",
          "height": 382
        },
        "outputId": "f1f7e9c1-7362-420e-e52a-bb5aca3a990f"
      },
      "source": [
        "# Your code here\n",
        "fig, ax = plt.subplots(dpi=100)\n",
        "ax.scatter(X_data, Y_data)\n",
        "ax.set_xlabel('$X$')\n",
        "ax.set_ylabel('$Y$')\n",
        "plt.show()"
      ],
      "execution_count": null,
      "outputs": [
        {
          "output_type": "display_data",
          "data": {
            "image/png": "[encoded data removed]",
            "text/plain": [
              "<Figure size 600x400 with 1 Axes>"
            ]
          },
          "metadata": {
            "needs_background": "light"
          }
        }
      ]
    },
    {
      "cell_type": "markdown",
      "metadata": {
        "id": "DDe4Zy2BCuYv"
      },
      "source": [
        "D. From the scatter plot, it looks like the random vector\n",
        "$$\n",
        "\\mathbf{X} = (X, Y),\n",
        "$$\n",
        "follows a multivariate normal distribution. What would be the mean and covariance of the distribution.\n",
        "Well, first organize the samples of $X$ and $Y$ in a matrix with the number of rows being the number of samples and two columns (one corresponding to $X$ and one to $Y$)."
      ]
    },
    {
      "cell_type": "code",
      "metadata": {
        "id": "nvdCJUmJCuYv"
      },
      "source": [
        "XY_data = np.hstack([X_data[:, None], Y_data[:, None]])"
      ],
      "execution_count": null,
      "outputs": []
    },
    {
      "cell_type": "markdown",
      "metadata": {
        "id": "558-Ur9mCuYv"
      },
      "source": [
        "The mean vector is:"
      ]
    },
    {
      "cell_type": "code",
      "metadata": {
        "id": "DrPDb4LYCuYv",
        "colab": {
          "base_uri": "https://localhost:8080/"
        },
        "outputId": "000a1f7e-5a58-48d7-a4d7-f34298905aaa"
      },
      "source": [
        "mu_XY = np.mean(XY_data, axis=0)\n",
        "print(mu_XY)"
      ],
      "execution_count": null,
      "outputs": [
        {
          "output_type": "stream",
          "name": "stdout",
          "text": [
            "[1.61041566 1.70263681]\n"
          ]
        }
      ]
    },
    {
      "cell_type": "markdown",
      "metadata": {
        "id": "sf-iy3sQCuYv"
      },
      "source": [
        "The covariance matrix is a little bit trickier. \n",
        "We have already discussed how to find the diagonals of the covariance matrix (it is simply the variance).\n",
        "For the off-diagonal terms, this is the formula that is being used:\n",
        "$$\n",
        "C_{jk} = \\frac{1}{N}\\sum_{i=1}^N(B_{ij} - \\mu_j)(B_{ik} - \\mu_k).\n",
        "$$\n",
        "This is how you can find it:"
      ]
    },
    {
      "cell_type": "code",
      "metadata": {
        "id": "ZVnm_mZHCuYv",
        "colab": {
          "base_uri": "https://localhost:8080/"
        },
        "outputId": "7924f248-7d20-43af-8026-68cf1ead6f82"
      },
      "source": [
        "# Careful with np.cov because it requires you to transpose the matrix\n",
        "C_XY = np.cov(XY_data.T)\n",
        "print(C_XY)"
      ],
      "execution_count": null,
      "outputs": [
        {
          "output_type": "stream",
          "name": "stdout",
          "text": [
            "[[0.00074572 0.00082435]\n",
            " [0.00082435 0.00096729]]\n"
          ]
        }
      ]
    },
    {
      "cell_type": "markdown",
      "metadata": {
        "id": "He4YMyUdCuYv"
      },
      "source": [
        "Are the two variables $X$ and $Y$ positively or negatively correlated?<br>\n",
        "**Answer:**\n",
        "<br><br>\n",
        "The off-diagonal element are positive, so $X$ and $Y$ are positively correlated.\n",
        "<br><br>"
      ]
    },
    {
      "cell_type": "markdown",
      "metadata": {
        "id": "t3KFWQ09CuYv"
      },
      "source": [
        "E. Use ``np.linalg.eigh`` to check that the matrix ``C_XY`` is indeed positive definite."
      ]
    },
    {
      "cell_type": "code",
      "metadata": {
        "id": "-kzw_ZgCCuYv",
        "colab": {
          "base_uri": "https://localhost:8080/"
        },
        "outputId": "789f328d-e667-4316-854e-8636559b05de"
      },
      "source": [
        "# Your code here\n",
        "val, vec = np.linalg.eigh(C_XY)\n",
        "if np.all(val > 0):\n",
        "   print(\"C_XY is positive definite.\")\n",
        "else:\n",
        "  print(\"C_XY is not positive definite.\")"
      ],
      "execution_count": null,
      "outputs": [
        {
          "output_type": "stream",
          "name": "stdout",
          "text": [
            "C_XY is positive definite.\n"
          ]
        }
      ]
    },
    {
      "cell_type": "markdown",
      "metadata": {
        "id": "YjDLN67rCuYv"
      },
      "source": [
        "F. Use the functionality of ``scipy.stats.multivariate_normal`` to plot the joint probability function of the samples of $X$ and $Y$ in the same plot as the scatter plot of $X$ and $Y$."
      ]
    },
    {
      "cell_type": "code",
      "metadata": {
        "id": "bcaGtZWSCuYv",
        "colab": {
          "base_uri": "https://localhost:8080/",
          "height": 382
        },
        "outputId": "f0dc21ce-aa7e-47af-d7d0-0e5f1755f763"
      },
      "source": [
        "# Your code here\n",
        "fig, ax = plt.subplots(dpi=100)\n",
        "x, y = np.mgrid[1.54:1.68:.02, 1.625:1.775:.025]\n",
        "ax.scatter(X_data, Y_data)\n",
        "ax.set_xlabel('$X$')\n",
        "ax.set_ylabel('$Y$')\n",
        "XY = st.multivariate_normal(mean=mu_XY, cov=C_XY)\n",
        "sample = XY.rvs(size=100)\n",
        "ax.scatter(sample[:, 0], sample[:, 1])\n",
        "# ax.contourf((x,y, XY.pdf(np.dstack((x,y)))))\n",
        "plt.show()\n"
      ],
      "execution_count": null,
      "outputs": [
        {
          "output_type": "display_data",
          "data": {
            "image/png": "[encoded data removed]",
            "text/plain": [
              "<Figure size 600x400 with 1 Axes>"
            ]
          },
          "metadata": {
            "needs_background": "light"
          }
        }
      ]
    },
    {
      "cell_type": "markdown",
      "metadata": {
        "id": "6GQIp0jRCuYw"
      },
      "source": [
        "G. Now, let's think each $B-H$ curve as a random vector.\n",
        "That is, the random vector $\\mathbf{B}$ corresponds to the values of the magnetic flux density at a fixed number of $H$-values. It is:\n",
        "$$\n",
        "\\mathbf{B} = (B(H_1), \\dots, B(H_{1500})).\n",
        "$$\n",
        "It is like $\\mathbf{X} = (X, Y)$ only now we have 1500 dimensions instead of $2$.\n",
        "First, let's find the mean of this random vector:"
      ]
    },
    {
      "cell_type": "code",
      "metadata": {
        "id": "dNByNFs1CuYw",
        "colab": {
          "base_uri": "https://localhost:8080/",
          "height": 386
        },
        "outputId": "69455d51-2f60-4bac-d9ee-211d964a8f08"
      },
      "source": [
        "B_mu = np.mean(B_data, axis=0)\n",
        "# Let's plot the mean on top of the data\n",
        "# Here are all the samples\n",
        "fig, ax = plt.subplots(dpi=100)\n",
        "ax.plot(B_data[:, :].T, 'r', lw=0.1)\n",
        "ax.plot(B_mu)\n",
        "ax.set_xlabel('Index $j$')\n",
        "ax.set_ylabel('$B$ (T)');"
      ],
      "execution_count": null,
      "outputs": [
        {
          "output_type": "display_data",
          "data": {
            "image/png": "[encoded data removed]",
            "text/plain": [
              "<Figure size 600x400 with 1 Axes>"
            ]
          },
          "metadata": {
            "needs_background": "light"
          }
        }
      ]
    },
    {
      "cell_type": "markdown",
      "metadata": {
        "id": "9IYhm9J5CuYw"
      },
      "source": [
        "It looks good. Now, find the covariance matrix of $\\mathbf{B}$. This is going to be a 1500x1500 matrix."
      ]
    },
    {
      "cell_type": "code",
      "metadata": {
        "id": "gqKOSFrwCuYw"
      },
      "source": [
        "B_cov = np.cov(B_data.T)"
      ],
      "execution_count": null,
      "outputs": []
    },
    {
      "cell_type": "markdown",
      "metadata": {
        "id": "fVJuPLY8CuYw"
      },
      "source": [
        "Let's plot this matrix:"
      ]
    },
    {
      "cell_type": "code",
      "metadata": {
        "id": "GeMMJVMVCuYw",
        "colab": {
          "base_uri": "https://localhost:8080/",
          "height": 385
        },
        "outputId": "76c0c79a-675c-4348-9172-b15e24869a3b"
      },
      "source": [
        "fig, ax = plt.subplots(dpi=100)\n",
        "c = ax.imshow(B_cov, interpolation='nearest')\n",
        "plt.colorbar(c)"
      ],
      "execution_count": null,
      "outputs": [
        {
          "output_type": "execute_result",
          "data": {
            "text/plain": [
              "<matplotlib.colorbar.Colorbar at 0x7ff6ca6d3650>"
            ]
          },
          "metadata": {},
          "execution_count": 66
        },
        {
          "output_type": "display_data",
          "data": {
            "image/png": "[encoded data removed]",
            "text/plain": [
              "<Figure size 600x400 with 2 Axes>"
            ]
          },
          "metadata": {
            "needs_background": "light"
          }
        }
      ]
    },
    {
      "cell_type": "markdown",
      "metadata": {
        "id": "ASrThZI0CuYw"
      },
      "source": [
        "You see that the values are quite a bit correlated. This makes sense because the curves are all very smooth and they look very much alike. But let's check if the covariance is indeed positive definite:"
      ]
    },
    {
      "cell_type": "code",
      "metadata": {
        "id": "J2G6buXzCuYw",
        "colab": {
          "base_uri": "https://localhost:8080/"
        },
        "outputId": "c4e2b222-2501-4a6a-9896-d982eb18d400"
      },
      "source": [
        "print('Eigenvalues of B_cov:')\n",
        "print(np.linalg.eigh(B_cov)[0])"
      ],
      "execution_count": null,
      "outputs": [
        {
          "output_type": "stream",
          "name": "stdout",
          "text": [
            "Eigenvalues of B_cov:\n",
            "[-2.96291523e-16 -2.85675798e-16 -2.70100990e-16 ...  4.66244763e-02\n",
            "  1.16644070e-01  1.20726782e+00]\n"
          ]
        }
      ]
    },
    {
      "cell_type": "markdown",
      "metadata": {
        "id": "6PoK_zlUCuYw"
      },
      "source": [
        "Hmm, notice that there are several eigenvalues that are negative, but they are too small. Very close to zero. This happens very often in practice when you are finding the covariance of a very large random vectors. It arises from the fact that we are using floating point arithmetic instead of a real numbers. It is a numerical artifact.\n",
        "If you tried to use this covariance to make a multivariate normal random vector using ``scipy.stats`` it would fail.\n",
        "Try this:"
      ]
    },
    {
      "cell_type": "code",
      "metadata": {
        "id": "HREIxYS8CuYw",
        "colab": {
          "base_uri": "https://localhost:8080/",
          "height": 306
        },
        "outputId": "0860456b-8780-4994-f60a-123fbb567d21"
      },
      "source": [
        "B = st.multivariate_normal(mean=B_mu, cov=B_cov)"
      ],
      "execution_count": null,
      "outputs": [
        {
          "output_type": "error",
          "ename": "LinAlgError",
          "evalue": "ignored",
          "traceback": [
            "\u001b[0;31m---------------------------------------------------------------------------\u001b[0m",
            "\u001b[0;31mLinAlgError\u001b[0m                               Traceback (most recent call last)",
            "\u001b[0;32m<ipython-input-68-42ddfd48bf34>\u001b[0m in \u001b[0;36m<module>\u001b[0;34m()\u001b[0m\n\u001b[0;32m----> 1\u001b[0;31m \u001b[0mB\u001b[0m \u001b[0;34m=\u001b[0m \u001b[0mst\u001b[0m\u001b[0;34m.\u001b[0m\u001b[0mmultivariate_normal\u001b[0m\u001b[0;34m(\u001b[0m\u001b[0mmean\u001b[0m\u001b[0;34m=\u001b[0m\u001b[0mB_mu\u001b[0m\u001b[0;34m,\u001b[0m \u001b[0mcov\u001b[0m\u001b[0;34m=\u001b[0m\u001b[0mB_cov\u001b[0m\u001b[0;34m)\u001b[0m\u001b[0;34m\u001b[0m\u001b[0;34m\u001b[0m\u001b[0m\n\u001b[0m",
            "\u001b[0;32m/usr/local/lib/python3.7/dist-packages/scipy/stats/_multivariate.py\u001b[0m in \u001b[0;36m__call__\u001b[0;34m(self, mean, cov, allow_singular, seed)\u001b[0m\n\u001b[1;32m    361\u001b[0m         return multivariate_normal_frozen(mean, cov,\n\u001b[1;32m    362\u001b[0m                                           \u001b[0mallow_singular\u001b[0m\u001b[0;34m=\u001b[0m\u001b[0mallow_singular\u001b[0m\u001b[0;34m,\u001b[0m\u001b[0;34m\u001b[0m\u001b[0;34m\u001b[0m\u001b[0m\n\u001b[0;32m--> 363\u001b[0;31m                                           seed=seed)\n\u001b[0m\u001b[1;32m    364\u001b[0m \u001b[0;34m\u001b[0m\u001b[0m\n\u001b[1;32m    365\u001b[0m     \u001b[0;32mdef\u001b[0m \u001b[0m_process_parameters\u001b[0m\u001b[0;34m(\u001b[0m\u001b[0mself\u001b[0m\u001b[0;34m,\u001b[0m \u001b[0mdim\u001b[0m\u001b[0;34m,\u001b[0m \u001b[0mmean\u001b[0m\u001b[0;34m,\u001b[0m \u001b[0mcov\u001b[0m\u001b[0;34m)\u001b[0m\u001b[0;34m:\u001b[0m\u001b[0;34m\u001b[0m\u001b[0;34m\u001b[0m\u001b[0m\n",
            "\u001b[0;32m/usr/local/lib/python3.7/dist-packages/scipy/stats/_multivariate.py\u001b[0m in \u001b[0;36m__init__\u001b[0;34m(self, mean, cov, allow_singular, seed, maxpts, abseps, releps)\u001b[0m\n\u001b[1;32m    734\u001b[0m         self.dim, self.mean, self.cov = self._dist._process_parameters(\n\u001b[1;32m    735\u001b[0m                                                             None, mean, cov)\n\u001b[0;32m--> 736\u001b[0;31m         \u001b[0mself\u001b[0m\u001b[0;34m.\u001b[0m\u001b[0mcov_info\u001b[0m \u001b[0;34m=\u001b[0m \u001b[0m_PSD\u001b[0m\u001b[0;34m(\u001b[0m\u001b[0mself\u001b[0m\u001b[0;34m.\u001b[0m\u001b[0mcov\u001b[0m\u001b[0;34m,\u001b[0m \u001b[0mallow_singular\u001b[0m\u001b[0;34m=\u001b[0m\u001b[0mallow_singular\u001b[0m\u001b[0;34m)\u001b[0m\u001b[0;34m\u001b[0m\u001b[0;34m\u001b[0m\u001b[0m\n\u001b[0m\u001b[1;32m    737\u001b[0m         \u001b[0;32mif\u001b[0m \u001b[0;32mnot\u001b[0m \u001b[0mmaxpts\u001b[0m\u001b[0;34m:\u001b[0m\u001b[0;34m\u001b[0m\u001b[0;34m\u001b[0m\u001b[0m\n\u001b[1;32m    738\u001b[0m             \u001b[0mmaxpts\u001b[0m \u001b[0;34m=\u001b[0m \u001b[0;36m1000000\u001b[0m \u001b[0;34m*\u001b[0m \u001b[0mself\u001b[0m\u001b[0;34m.\u001b[0m\u001b[0mdim\u001b[0m\u001b[0;34m\u001b[0m\u001b[0;34m\u001b[0m\u001b[0m\n",
            "\u001b[0;32m/usr/local/lib/python3.7/dist-packages/scipy/stats/_multivariate.py\u001b[0m in \u001b[0;36m__init__\u001b[0;34m(self, M, cond, rcond, lower, check_finite, allow_singular)\u001b[0m\n\u001b[1;32m    161\u001b[0m         \u001b[0md\u001b[0m \u001b[0;34m=\u001b[0m \u001b[0ms\u001b[0m\u001b[0;34m[\u001b[0m\u001b[0ms\u001b[0m \u001b[0;34m>\u001b[0m \u001b[0meps\u001b[0m\u001b[0;34m]\u001b[0m\u001b[0;34m\u001b[0m\u001b[0;34m\u001b[0m\u001b[0m\n\u001b[1;32m    162\u001b[0m         \u001b[0;32mif\u001b[0m \u001b[0mlen\u001b[0m\u001b[0;34m(\u001b[0m\u001b[0md\u001b[0m\u001b[0;34m)\u001b[0m \u001b[0;34m<\u001b[0m \u001b[0mlen\u001b[0m\u001b[0;34m(\u001b[0m\u001b[0ms\u001b[0m\u001b[0;34m)\u001b[0m \u001b[0;32mand\u001b[0m \u001b[0;32mnot\u001b[0m \u001b[0mallow_singular\u001b[0m\u001b[0;34m:\u001b[0m\u001b[0;34m\u001b[0m\u001b[0;34m\u001b[0m\u001b[0m\n\u001b[0;32m--> 163\u001b[0;31m             \u001b[0;32mraise\u001b[0m \u001b[0mnp\u001b[0m\u001b[0;34m.\u001b[0m\u001b[0mlinalg\u001b[0m\u001b[0;34m.\u001b[0m\u001b[0mLinAlgError\u001b[0m\u001b[0;34m(\u001b[0m\u001b[0;34m'singular matrix'\u001b[0m\u001b[0;34m)\u001b[0m\u001b[0;34m\u001b[0m\u001b[0;34m\u001b[0m\u001b[0m\n\u001b[0m\u001b[1;32m    164\u001b[0m         \u001b[0ms_pinv\u001b[0m \u001b[0;34m=\u001b[0m \u001b[0m_pinv_1d\u001b[0m\u001b[0;34m(\u001b[0m\u001b[0ms\u001b[0m\u001b[0;34m,\u001b[0m \u001b[0meps\u001b[0m\u001b[0;34m)\u001b[0m\u001b[0;34m\u001b[0m\u001b[0;34m\u001b[0m\u001b[0m\n\u001b[1;32m    165\u001b[0m         \u001b[0mU\u001b[0m \u001b[0;34m=\u001b[0m \u001b[0mnp\u001b[0m\u001b[0;34m.\u001b[0m\u001b[0mmultiply\u001b[0m\u001b[0;34m(\u001b[0m\u001b[0mu\u001b[0m\u001b[0;34m,\u001b[0m \u001b[0mnp\u001b[0m\u001b[0;34m.\u001b[0m\u001b[0msqrt\u001b[0m\u001b[0;34m(\u001b[0m\u001b[0ms_pinv\u001b[0m\u001b[0;34m)\u001b[0m\u001b[0;34m)\u001b[0m\u001b[0;34m\u001b[0m\u001b[0;34m\u001b[0m\u001b[0m\n",
            "\u001b[0;31mLinAlgError\u001b[0m: singular matrix"
          ]
        }
      ]
    },
    {
      "cell_type": "markdown",
      "metadata": {
        "id": "MnsEPW70CuYw"
      },
      "source": [
        "The way to overcome this problem is to add a small positive number to the diagonal. This needs to be very small so that the distribution does not change very much. It must be the smallest possible number that makes the covariance matrix behave well. This is known as the *jitter* or the *nugget*. Find the nugget playing with the code below. Every time you try, multiply the nugget by ten."
      ]
    },
    {
      "cell_type": "code",
      "metadata": {
        "id": "vQI-bOwxCuYw",
        "colab": {
          "base_uri": "https://localhost:8080/"
        },
        "outputId": "89983e39-ea44-4dde-d0ec-32c8b0bff259"
      },
      "source": [
        "# Pick the nugget here\n",
        "nugget = 1e-9\n",
        "# This is the modified covariance matrix\n",
        "B_cov_w_nugget = B_cov + nugget * np.eye(B_cov.shape[0])\n",
        "# Try building the distribution:\n",
        "try:\n",
        "    B = st.multivariate_normal(mean=B_mu, cov=B_cov_w_nugget)\n",
        "    print('It worked! Move on.')\n",
        "except:\n",
        "    print('It did not work. Increase nugget by 10.')"
      ],
      "execution_count": null,
      "outputs": [
        {
          "output_type": "stream",
          "name": "stdout",
          "text": [
            "It worked! Move on.\n"
          ]
        }
      ]
    },
    {
      "cell_type": "markdown",
      "metadata": {
        "id": "RbattiraCuYx"
      },
      "source": [
        "H. Now you have created your first stochastic model of a complicated physical quantity. By sampling from your newly constructed random vector $\\mathbf{B}$ you have essentially quantified your uncertainty about the $B-H$ curve as induced by the inability to perfectly control the production of steel. Take 10 samples of this random vector and plot them."
      ]
    },
    {
      "cell_type": "code",
      "metadata": {
        "id": "i7_N2HJzCuYx",
        "colab": {
          "base_uri": "https://localhost:8080/",
          "height": 381
        },
        "outputId": "93864841-e2a1-4e87-a15a-875a643ede57"
      },
      "source": [
        "# Your code here\n",
        "fig, ax = plt.subplots(dpi=100)\n",
        "sample = B.rvs(size=10)\n",
        "ax.plot(sample.T, 'r', lw=0.5)\n",
        "plt.title('Ten samples')\n",
        "plt.show()"
      ],
      "execution_count": null,
      "outputs": [
        {
          "output_type": "display_data",
          "data": {
            "image/png": "[encoded data removed]",
            "text/plain": [
              "<Figure size 600x400 with 1 Axes>"
            ]
          },
          "metadata": {
            "needs_background": "light"
          }
        }
      ]
    },
    {
      "cell_type": "code",
      "metadata": {
        "id": "_jJ-oTE1M7yk"
      },
      "source": [
        ""
      ],
      "execution_count": null,
      "outputs": []
    }
  ]
}
